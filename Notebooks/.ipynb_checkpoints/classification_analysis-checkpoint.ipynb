{
 "cells": [
  {
   "cell_type": "markdown",
   "metadata": {
    "execution": {
     "iopub.execute_input": "2022-01-21T15:33:21.114948Z",
     "iopub.status.busy": "2022-01-21T15:33:21.114948Z"
    }
   },
   "source": [
    "### Classification\n",
    "Having seen some of the differences between the celllines, we might also be interested in understanding which features are actually predictive of the respective genotype/treatment. To that end, we will use classification analysis and take a look at the accuracies and the feature importance values:"
   ]
  },
  {
   "cell_type": "code",
   "execution_count": 6,
   "metadata": {
    "execution": {
     "iopub.execute_input": "2022-01-24T13:01:16.730724Z",
     "iopub.status.busy": "2022-01-24T13:01:16.730724Z",
     "iopub.status.idle": "2022-01-24T13:01:16.786775Z",
     "shell.execute_reply": "2022-01-24T13:01:16.786775Z",
     "shell.execute_reply.started": "2022-01-24T13:01:16.730724Z"
    }
   },
   "outputs": [
    {
     "name": "stdout",
     "output_type": "stream",
     "text": [
      "\n"
     ]
    }
   ],
   "source": [
    "addpath('Classes','Functions')\n",
    "set(0, 'defaultFigureRenderer', 'painters')\n",
    "warning('off','all')"
   ]
  },
  {
   "cell_type": "code",
   "execution_count": 7,
   "metadata": {
    "execution": {
     "iopub.execute_input": "2022-01-24T13:01:18.691088Z",
     "iopub.status.busy": "2022-01-24T13:01:18.690088Z",
     "iopub.status.idle": "2022-01-24T13:01:36.065521Z",
     "shell.execute_reply": "2022-01-24T13:01:36.065521Z",
     "shell.execute_reply.started": "2022-01-24T13:01:18.691088Z"
    }
   },
   "outputs": [
    {
     "name": "stdout",
     "output_type": "stream",
     "text": [
      "\n"
     ]
    }
   ],
   "source": [
    "load('full_dataset.mat')"
   ]
  },
  {
   "cell_type": "code",
   "execution_count": 8,
   "metadata": {
    "execution": {
     "iopub.execute_input": "2022-01-24T13:02:24.408979Z",
     "iopub.status.busy": "2022-01-24T13:02:24.408979Z",
     "iopub.status.idle": "2022-01-24T13:02:24.647195Z",
     "shell.execute_reply": "2022-01-24T13:02:24.647195Z",
     "shell.execute_reply.started": "2022-01-24T13:02:24.408979Z"
    }
   },
   "outputs": [
    {
     "name": "stdout",
     "output_type": "stream",
     "text": [
      "\n"
     ]
    }
   ],
   "source": [
    "batches = unique([nw_array.PlatingDate]); %Refer to different batches via their PlatingDate property\n",
    "inclusion = {{'PlatingDate',batches([1:2])}}; %e.g. specify the batches to analyze by indexing the batches array // here we use the first two\n",
    "exclusion = {{'DIV',16}}; %Example on how to exclude a certain recording day // here we don't exclude anything as DIV 16 does not exist\n",
    "nw_array = filterObjectArray(nw_array,inclusion,exclusion); %Apply "
   ]
  },
  {
   "cell_type": "markdown",
   "metadata": {
    "execution": {
     "iopub.execute_input": "2022-01-24T11:54:16.086239Z",
     "iopub.status.busy": "2022-01-24T11:54:16.084237Z",
     "iopub.status.idle": "2022-01-24T11:54:16.278412Z",
     "shell.execute_reply": "2022-01-24T11:54:16.277412Z",
     "shell.execute_reply.started": "2022-01-24T11:54:16.086239Z"
    }
   },
   "source": [
    "### Set parameters"
   ]
  },
  {
   "cell_type": "code",
   "execution_count": 45,
   "metadata": {
    "execution": {
     "iopub.execute_input": "2022-01-24T15:14:34.679569Z",
     "iopub.status.busy": "2022-01-24T15:14:34.679569Z",
     "iopub.status.idle": "2022-01-24T15:14:34.689579Z",
     "shell.execute_reply": "2022-01-24T15:14:34.689579Z",
     "shell.execute_reply.started": "2022-01-24T15:14:34.679569Z"
    }
   },
   "outputs": [
    {
     "name": "stdout",
     "output_type": "stream",
     "text": [
      "\n"
     ]
    }
   ],
   "source": [
    "week = 1; %Set the week for which the features should be used // 6 uses all weeks\n",
    "mat_idx = 1:2; %Indicate if single-cell, network, or both should be used // network is 1, single-cell is 2, both is 1:2\n",
    "nw_sel = []; %Select specific network features // here we use all\n",
    "sc_sel = []; %Select specific single-cell features // here we use all\n",
    "alg = 'rf'; %Algorithm to be used // choices are 'svm','cnb','knn','rf'\n",
    "kf = 5; %Number of kfold crossvalidations // default is 5\n",
    "TH = 3; %Set outlier detection threshold, value refers to the median absolute deviation multiplier // default is 3\n",
    "N_hyper = 0; %Number of iterations for hyperparameter optimization //0 skips hyperparameter optimization"
   ]
  },
  {
   "cell_type": "code",
   "execution_count": 46,
   "metadata": {
    "execution": {
     "iopub.execute_input": "2022-01-24T15:14:35.518329Z",
     "iopub.status.busy": "2022-01-24T15:14:35.518329Z",
     "iopub.status.idle": "2022-01-24T15:14:42.841990Z",
     "shell.execute_reply": "2022-01-24T15:14:42.841990Z",
     "shell.execute_reply.started": "2022-01-24T15:14:35.518329Z"
    }
   },
   "outputs": [
    {
     "name": "stdout",
     "output_type": "stream",
     "text": [
      "Average test accuracy was 85.7%\n"
     ]
    }
   ],
   "source": [
    "[train_acc,test_acc,mutation] = classify_genotypes(nw_array,week,mat_idx,nw_sel,sc_sel,alg,kf,TH,N_hyper);\n",
    "fprintf('Average test accuracy was %.1f%%',mean(test_acc)*100)"
   ]
  },
  {
   "cell_type": "code",
   "execution_count": 48,
   "metadata": {
    "execution": {
     "iopub.execute_input": "2022-01-24T15:16:34.935498Z",
     "iopub.status.busy": "2022-01-24T15:16:34.935498Z",
     "iopub.status.idle": "2022-01-24T15:17:19.976741Z",
     "shell.execute_reply": "2022-01-24T15:17:19.976741Z",
     "shell.execute_reply.started": "2022-01-24T15:16:34.935498Z"
    }
   },
   "outputs": [
    {
     "name": "stdout",
     "output_type": "stream",
     "text": [
      "\n"
     ]
    }
   ],
   "source": [
    "acc_mat = nan(6,kf);\n",
    "for w = 1:6\n",
    "    [train_acc,test_acc,mutation] = classify_genotypes(nw_array,w,mat_idx,nw_sel,sc_sel,alg,kf,TH,N_hyper);\n",
    "    acc_mat(w,:) = test_acc;\n",
    "end"
   ]
  },
  {
   "cell_type": "code",
   "execution_count": 59,
   "metadata": {
    "execution": {
     "iopub.execute_input": "2022-01-24T15:26:32.518027Z",
     "iopub.status.busy": "2022-01-24T15:26:32.518027Z",
     "iopub.status.idle": "2022-01-24T15:26:32.725043Z",
     "shell.execute_reply": "2022-01-24T15:26:32.725043Z",
     "shell.execute_reply.started": "2022-01-24T15:26:32.518027Z"
    }
   },
   "outputs": [
    {
     "name": "stdout",
     "output_type": "stream",
     "text": [
      "\n"
     ]
    },
    {
     "data": {
      "image/png": "[encoded data removed]",
      "text/plain": [
       "<IPython.core.display.Image object>"
      ]
     },
     "metadata": {},
     "output_type": "display_data"
    }
   ],
   "source": [
    "%plot --size 300,200\n",
    "accuracy_barplot(acc_mat')"
   ]
  }
 ],
 "metadata": {
  "kernelspec": {
   "display_name": "Matlab",
   "language": "matlab",
   "name": "matlab"
  },
  "language_info": {
   "codemirror_mode": "octave",
   "file_extension": ".m",
   "help_links": [
    {
     "text": "MetaKernel Magics",
     "url": "https://metakernel.readthedocs.io/en/latest/source/README.html"
    }
   ],
   "mimetype": "text/x-octave",
   "name": "matlab",
   "version": "0.16.11"
  }
 },
 "nbformat": 4,
 "nbformat_minor": 4
}

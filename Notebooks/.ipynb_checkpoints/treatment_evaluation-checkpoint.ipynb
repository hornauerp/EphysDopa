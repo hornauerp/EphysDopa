{
 "cells": [
  {
   "cell_type": "markdown",
   "metadata": {},
   "source": [
    "### Treatment evaluation"
   ]
  },
  {
   "cell_type": "code",
   "execution_count": null,
   "metadata": {},
   "outputs": [],
   "source": []
  },
  {
   "cell_type": "markdown",
   "metadata": {},
   "source": [
    "Now let's check out, how the LNA treatment impacts the age prediction! We start with the WT cultures:"
   ]
  },
  {
   "cell_type": "code",
   "execution_count": 181,
   "metadata": {
    "execution": {
     "iopub.execute_input": "2022-01-26T12:53:48.135149Z",
     "iopub.status.busy": "2022-01-26T12:53:48.134148Z",
     "iopub.status.idle": "2022-01-26T12:53:48.148160Z",
     "shell.execute_reply": "2022-01-26T12:53:48.148160Z",
     "shell.execute_reply.started": "2022-01-26T12:53:48.135149Z"
    }
   },
   "outputs": [
    {
     "name": "stdout",
     "output_type": "stream",
     "text": [
      "\n"
     ]
    }
   ],
   "source": [
    "batches = unique([nw_array.PlatingDate]); %Refer to different batches via their PlatingDate property\n",
    "inclusion_array = {{{'PlatingDate',batches([1:3])},{'Mutation','wt'}},...\n",
    "                    {{'PlatingDate',batches([1:3])},{'Mutation','wt'},{'Treatment','LNA7'}}}; %We use all non-LNA-treated WT cultures as training, and all LNA7-treated WT cultures as test\n",
    "exclusion_array = {{{'Treatment','LNA7'}},...\n",
    "                    {}}; \n",
    "vars2use = [1,2,4]; %Which variable sets to use // 1 is network, 2 is waveform, 4 is activity-based single-cell features\n",
    "age_range = [0,29]; "
   ]
  },
  {
   "cell_type": "code",
   "execution_count": 182,
   "metadata": {
    "execution": {
     "iopub.execute_input": "2022-01-26T12:53:51.475708Z",
     "iopub.status.busy": "2022-01-26T12:53:51.475708Z",
     "iopub.status.idle": "2022-01-26T12:54:37.898318Z",
     "shell.execute_reply": "2022-01-26T12:54:37.898318Z",
     "shell.execute_reply.started": "2022-01-26T12:53:51.475708Z"
    }
   },
   "outputs": [
    {
     "name": "stdout",
     "output_type": "stream",
     "text": [
      "\n"
     ]
    }
   ],
   "source": [
    "[age,pred_weeks,pI,vars,cl_train] = predictAgeFunction(nw_array,vars2use,age_range,inclusion_array,exclusion_array);"
   ]
  },
  {
   "cell_type": "code",
   "execution_count": 184,
   "metadata": {
    "execution": {
     "iopub.execute_input": "2022-01-26T12:58:51.365576Z",
     "iopub.status.busy": "2022-01-26T12:58:51.365576Z",
     "iopub.status.idle": "2022-01-26T12:58:51.590288Z",
     "shell.execute_reply": "2022-01-26T12:58:51.590288Z",
     "shell.execute_reply.started": "2022-01-26T12:58:51.365576Z"
    }
   },
   "outputs": [
    {
     "name": "stdout",
     "output_type": "stream",
     "text": [
      "\n"
     ]
    },
    {
     "data": {
      "image/png": "[encoded data removed]",
      "text/plain": [
       "<IPython.core.display.Image object>"
      ]
     },
     "metadata": {},
     "output_type": "display_data"
    }
   ],
   "source": [
    "%plot --size 300,300\n",
    "s_ap = predictAgeBoxplot(age,pred_weeks);"
   ]
  }
 ],
 "metadata": {
  "kernelspec": {
   "display_name": "Matlab",
   "language": "matlab",
   "name": "matlab"
  },
  "language_info": {
   "codemirror_mode": "octave",
   "file_extension": ".m",
   "help_links": [
    {
     "text": "MetaKernel Magics",
     "url": "https://metakernel.readthedocs.io/en/latest/source/README.html"
    }
   ],
   "mimetype": "text/x-octave",
   "name": "matlab",
   "version": "0.16.11"
  }
 },
 "nbformat": 4,
 "nbformat_minor": 4
}

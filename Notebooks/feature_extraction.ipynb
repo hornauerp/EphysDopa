{
 "cells": [
  {
   "cell_type": "markdown",
   "id": "5c7a5793-6de8-4000-a927-b39f6262e74f",
   "metadata": {},
   "source": [
    "# Feature extraction"
   ]
  },
  {
   "cell_type": "code",
   "execution_count": 3,
   "id": "1441ff69-1776-426e-b12e-bad782b60983",
   "metadata": {},
   "outputs": [],
   "source": [
    "addpath('../Classes','../Functions')\n",
    "set(0, 'defaultFigureRenderer', 'painters')\n",
    "warning('off','all')"
   ]
  },
  {
   "cell_type": "markdown",
   "id": "d8dcb3ad-487f-4923-9a8e-8a9318406bfd",
   "metadata": {},
   "source": [
    "### Set parameters"
   ]
  },
  {
   "cell_type": "code",
   "execution_count": 5,
   "id": "97848d60-c506-4e23-8427-04b3518cbabb",
   "metadata": {},
   "outputs": [],
   "source": [
    "sorting_path = \"../Data/Example_sorting\";\n",
    "params.QC.amp = nan;\n",
    "params.QC.rate = [0.1 10];\n",
    "params.QC.rv = 0.02;\n",
    "params.Bursts.N = 0.0015;\n",
    "params.Bursts.ISI_N = 1.5;\n",
    "params.Bursts.merge_t = 2;\n",
    "params.Regularity.binning = 0.1;\n",
    "params.Bursts.binning = 0.1;"
   ]
  },
  {
   "cell_type": "code",
   "execution_count": 7,
   "id": "1e3f67ce-4c85-4332-bf71-f1fc07448899",
   "metadata": {},
   "outputs": [
    {
     "name": "stderr",
     "output_type": "stream",
     "text": [
      "\u001b[0;31mUnrecognized function or variable 'readNPY'.\n",
      "\n",
      "Error in WholeNetwork/getCoordinates (line 155)\n",
      "            xy = readNPY(fullfile(obj.InputPath, 'channel_positions.npy'));\n",
      "\n",
      "Error in WholeNetwork (line 68)\n",
      "                nw.XYElectrodes = nw.getCoordinates();\n",
      "\n",
      "\u001b[0m"
     ]
    }
   ],
   "source": [
    "nw = WholeNetwork(sorting_path,params);"
   ]
  }
 ],
 "metadata": {
  "kernelspec": {
   "display_name": "Matlab",
   "language": "matlab",
   "name": "matlab"
  },
  "language_info": {
   "codemirror_mode": "octave",
   "file_extension": ".m",
   "help_links": [
    {
     "text": "MetaKernel Magics",
     "url": "https://metakernel.readthedocs.io/en/latest/source/README.html"
    }
   ],
   "mimetype": "text/x-octave",
   "name": "matlab",
   "version": "0.16.11"
  }
 },
 "nbformat": 4,
 "nbformat_minor": 5
}

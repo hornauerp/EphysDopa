{
 "cells": [
  {
   "cell_type": "markdown",
   "id": "5c7a5793-6de8-4000-a927-b39f6262e74f",
   "metadata": {},
   "source": [
    "# Feature extraction"
   ]
  },
  {
   "cell_type": "code",
   "execution_count": 3,
   "id": "1441ff69-1776-426e-b12e-bad782b60983",
   "metadata": {},
   "outputs": [],
   "source": [
    "addpath('../Classes','../Functions')\n",
    "set(0, 'defaultFigureRenderer', 'painters')\n",
    "warning('on','all')"
   ]
  },
  {
   "cell_type": "markdown",
   "id": "d8dcb3ad-487f-4923-9a8e-8a9318406bfd",
   "metadata": {},
   "source": [
    "### Set parameters"
   ]
  },
  {
   "cell_type": "code",
   "execution_count": 4,
   "id": "97848d60-c506-4e23-8427-04b3518cbabb",
   "metadata": {},
   "outputs": [],
   "source": [
    "sorting_path = fullfile(fileparts(cd),\"/Data/Sorting_example\"); %\n",
    "params.QC.amp = nan; %Amplitude thresholds to exclude units, either [min_amp max_amp] or nan for no amplitude filtering\n",
    "params.QC.rate = [0.1 10]; %Firing rate thresholds to exclude units, either [min_rate max_rate] or nan for no firing rate filtering\n",
    "params.QC.rv = 0.02; %Maximum refractory period violations in [%], default is 0.02\n",
    "params.Bursts.N = 0.0015; %Parameters for burst detection, for details see Bakkum et al., 2014 (https://doi.org/10.3389/fncom.2013.00193)\n",
    "params.Bursts.ISI_N = 1.5;\n",
    "params.Bursts.merge_t = 2;\n",
    "params.Regularity.binning = 0.1; %Binning for regularity calculations\n",
    "params.Bursts.binning = 0.1; %Binning for burst quantifications"
   ]
  },
  {
   "cell_type": "markdown",
   "id": "5f70753f-d22d-4bbc-8a88-816e2151d6fe",
   "metadata": {},
   "source": [
    "Having specified all necessary parameters, we can now run the feature extraction. We use an object-oriented approach, which means that the feature extraction results in one object for each listed spikesorted recording. This will help us later to filter recordings by metadata or feature values."
   ]
  },
  {
   "cell_type": "code",
   "execution_count": null,
   "id": "1e3f67ce-4c85-4332-bf71-f1fc07448899",
   "metadata": {},
   "outputs": [
    {
     "name": "stdout",
     "output_type": "stream",
     "text": [
      "Warning: No metadata reference file found\n",
      "> In WholeNetwork/getMetaData (line 195)\n",
      "In WholeNetwork (line 67)\n",
      "Warning: Integer operands are required for colon operator when used as index.\n",
      "> In WholeNetwork/getRegularity (line 395)\n",
      "In WholeNetwork (line 82)\n",
      "\n",
      "Warning: Integer operands are required for colon operator when used as index.\n",
      "> In WholeNetwork/getRegularity (line 399)\n",
      "In WholeNetwork (line 82)\n",
      "\n"
     ]
    }
   ],
   "source": [
    "nw = WholeNetwork(sorting_path,params);"
   ]
  },
  {
   "cell_type": "code",
   "execution_count": 2,
   "id": "9354dbee-52f2-4bd0-91a6-a4aa52d5959b",
   "metadata": {},
   "outputs": [
    {
     "name": "stdout",
     "output_type": "stream",
     "text": [
      "Building with 'gcc'.\n",
      "/home/philipp/Documents/Git/EphysDopa/Notebooks/../Functions/CCGHeart.c: In function \u001amexFunction\u001a:\n",
      "/home/philipp/Documents/Git/EphysDopa/Notebooks/../Functions/CCGHeart.c:190:3: warning: implicit declaration of function \u001amemcpy\u001a [-Wimplicit-function-declaration]\n",
      "  190 |   memcpy(mxGetPr(plhs[1]), (void *)Pairs, PairCnt*sizeof(unsigned int));\n",
      "      |   ^~~~~~\n",
      "/home/philipp/Documents/Git/EphysDopa/Notebooks/../Functions/CCGHeart.c:190:3: warning: incompatible implicit declaration of built-in function \u001amemcpy\u001a\n",
      "/home/philipp/Documents/Git/EphysDopa/Notebooks/../Functions/CCGHeart.c:27:1: note: include \u001a<string.h>\u001a or provide a declaration of \u001amemcpy\u001a\n",
      "   26 | #include <math.h>\n",
      "  +++ |+#include <string.h>\n",
      "   27 | \n",
      "\n",
      "MEX completed successfully.\n"
     ]
    }
   ],
   "source": [
    "mex('../Functions/CCGHeart.c')"
   ]
  }
 ],
 "metadata": {
  "kernelspec": {
   "display_name": "Matlab",
   "language": "matlab",
   "name": "matlab"
  },
  "language_info": {
   "codemirror_mode": "octave",
   "file_extension": ".m",
   "help_links": [
    {
     "text": "MetaKernel Magics",
     "url": "https://metakernel.readthedocs.io/en/latest/source/README.html"
    }
   ],
   "mimetype": "text/x-octave",
   "name": "matlab",
   "version": "0.16.11"
  }
 },
 "nbformat": 4,
 "nbformat_minor": 5
}

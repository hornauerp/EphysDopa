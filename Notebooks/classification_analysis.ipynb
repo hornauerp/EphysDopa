{
 "cells": [
  {
   "cell_type": "markdown",
   "metadata": {
    "execution": {
     "iopub.execute_input": "2022-01-21T15:33:21.114948Z",
     "iopub.status.busy": "2022-01-21T15:33:21.114948Z"
    }
   },
   "source": [
    "### Classification\n",
    "Having seen some of the differences between the celllines, we might also be interested in understanding which features are actually predictive of the respective genotype/treatment. To that end, we will use classification analysis and take a look at the accuracies and the feature importance values:"
   ]
  },
  {
   "cell_type": "code",
   "execution_count": 25,
   "metadata": {
    "execution": {
     "iopub.execute_input": "2022-01-27T14:18:10.319857Z",
     "iopub.status.busy": "2022-01-27T14:18:10.318856Z",
     "iopub.status.idle": "2022-01-27T14:18:10.473997Z",
     "shell.execute_reply": "2022-01-27T14:18:10.473997Z",
     "shell.execute_reply.started": "2022-01-27T14:18:10.319857Z"
    }
   },
   "outputs": [
    {
     "name": "stdout",
     "output_type": "stream",
     "text": [
      "\n"
     ]
    }
   ],
   "source": [
    "addpath('../Classes','../Functions')\n",
    "set(0, 'defaultFigureRenderer', 'painters')\n",
    "warning('off','all')"
   ]
  },
  {
   "cell_type": "code",
   "execution_count": 26,
   "metadata": {
    "execution": {
     "iopub.execute_input": "2022-01-27T14:18:10.474997Z",
     "iopub.status.busy": "2022-01-27T14:18:10.474997Z",
     "iopub.status.idle": "2022-01-27T14:18:31.048765Z",
     "shell.execute_reply": "2022-01-27T14:18:31.048765Z",
     "shell.execute_reply.started": "2022-01-27T14:18:10.474997Z"
    }
   },
   "outputs": [
    {
     "name": "stdout",
     "output_type": "stream",
     "text": [
      "\n"
     ]
    }
   ],
   "source": [
    "load('../Data/full_dataset.mat')"
   ]
  },
  {
   "cell_type": "code",
   "execution_count": 27,
   "metadata": {
    "execution": {
     "iopub.execute_input": "2022-01-27T14:18:31.048765Z",
     "iopub.status.busy": "2022-01-27T14:18:31.048765Z",
     "iopub.status.idle": "2022-01-27T14:18:31.085798Z",
     "shell.execute_reply": "2022-01-27T14:18:31.085798Z",
     "shell.execute_reply.started": "2022-01-27T14:18:31.048765Z"
    }
   },
   "outputs": [
    {
     "name": "stdout",
     "output_type": "stream",
     "text": [
      "\n"
     ]
    }
   ],
   "source": [
    "batches = unique([nw_array.PlatingDate]); %Refer to different batches via their PlatingDate property\n",
    "inclusion = {{'PlatingDate',batches([1:2])}}; %e.g. specify the batches to analyze by indexing the batches array // here we use the first two\n",
    "exclusion = {{'DIV',16}}; %Example on how to exclude a certain recording day // here we don't exclude anything as DIV 16 does not exist\n",
    "nw_filtered = filterObjectArray(nw_array,inclusion,exclusion); %Apply "
   ]
  },
  {
   "cell_type": "markdown",
   "metadata": {
    "execution": {
     "iopub.execute_input": "2022-01-24T11:54:16.086239Z",
     "iopub.status.busy": "2022-01-24T11:54:16.084237Z",
     "iopub.status.idle": "2022-01-24T11:54:16.278412Z",
     "shell.execute_reply": "2022-01-24T11:54:16.277412Z",
     "shell.execute_reply.started": "2022-01-24T11:54:16.086239Z"
    }
   },
   "source": [
    "#### Set parameters"
   ]
  },
  {
   "cell_type": "code",
   "execution_count": 28,
   "metadata": {
    "execution": {
     "iopub.execute_input": "2022-01-27T14:18:31.086799Z",
     "iopub.status.busy": "2022-01-27T14:18:31.086799Z",
     "iopub.status.idle": "2022-01-27T14:18:31.095807Z",
     "shell.execute_reply": "2022-01-27T14:18:31.095807Z",
     "shell.execute_reply.started": "2022-01-27T14:18:31.086799Z"
    }
   },
   "outputs": [
    {
     "name": "stdout",
     "output_type": "stream",
     "text": [
      "\n"
     ]
    }
   ],
   "source": [
    "age_range = [0, 35]; %Set the week for which the features should be used // 6 uses all weeks\n",
    "mat_idx = 1:2; %Indicate if single-cell, network, or both should be used // network is 1, single-cell is 2, both is 1:2\n",
    "nw_sel = []; %Select specific network features // here we use all\n",
    "sc_sel = []; %Select specific single-cell features // here we use all\n",
    "alg = 'rf'; %Algorithm to be used // choices are 'svm','cnb','knn','rf'\n",
    "kf = 5; %Number of kfold crossvalidations // default is 5\n",
    "TH = 3; %Set outlier detection threshold, value refers to the median absolute deviation multiplier // default is 3\n",
    "N_hyper = 0; %Number of iterations for hyperparameter optimization //0 skips hyperparameter optimization"
   ]
  },
  {
   "cell_type": "code",
   "execution_count": 29,
   "metadata": {
    "execution": {
     "iopub.execute_input": "2022-01-27T14:18:31.097809Z",
     "iopub.status.busy": "2022-01-27T14:18:31.096809Z",
     "iopub.status.idle": "2022-01-27T14:18:41.430122Z",
     "shell.execute_reply": "2022-01-27T14:18:41.430122Z",
     "shell.execute_reply.started": "2022-01-27T14:18:31.096809Z"
    }
   },
   "outputs": [
    {
     "name": "stdout",
     "output_type": "stream",
     "text": [
      "Average test accuracy was 90.0%\n"
     ]
    }
   ],
   "source": [
    "[train_acc,feature_names,test_acc,mutation] = classify_genotypes(nw_filtered,age_range,mat_idx,nw_sel,sc_sel,alg,kf,TH,N_hyper);\n",
    "fprintf('Average test accuracy was %.1f%%',mean(test_acc)*100)"
   ]
  },
  {
   "cell_type": "code",
   "execution_count": 40,
   "metadata": {
    "execution": {
     "iopub.execute_input": "2022-01-27T14:26:50.634068Z",
     "iopub.status.busy": "2022-01-27T14:26:50.634068Z",
     "iopub.status.idle": "2022-01-27T14:27:36.144112Z",
     "shell.execute_reply": "2022-01-27T14:27:36.144112Z",
     "shell.execute_reply.started": "2022-01-27T14:26:50.634068Z"
    }
   },
   "outputs": [
    {
     "name": "stdout",
     "output_type": "stream",
     "text": [
      "\n"
     ]
    }
   ],
   "source": [
    "acc_mat = nan(6,kf);\n",
    "for w = 1:6\n",
    "    if w <6\n",
    "        age_range = [(w*7)-1,(w*7)];\n",
    "    else\n",
    "        age_range = [0, w*7];\n",
    "    end\n",
    "    [train_acc,feature_names,test_acc,mutation] = classify_genotypes(nw_filtered,age_range,mat_idx,nw_sel,sc_sel,alg,kf,TH,N_hyper);\n",
    "    acc_mat(w,:) = test_acc;\n",
    "end"
   ]
  },
  {
   "cell_type": "code",
   "execution_count": 41,
   "metadata": {
    "execution": {
     "iopub.execute_input": "2022-01-27T14:30:01.818983Z",
     "iopub.status.busy": "2022-01-27T14:30:01.817983Z",
     "iopub.status.idle": "2022-01-27T14:30:02.551832Z",
     "shell.execute_reply": "2022-01-27T14:30:02.551832Z",
     "shell.execute_reply.started": "2022-01-27T14:30:01.818983Z"
    }
   },
   "outputs": [
    {
     "name": "stdout",
     "output_type": "stream",
     "text": [
      "\n"
     ]
    },
    {
     "data": {
      "image/png": "[encoded data removed]",
      "text/plain": [
       "<IPython.core.display.Image object>"
      ]
     },
     "metadata": {},
     "output_type": "display_data"
    }
   ],
   "source": [
    "%plot --size 300,200\n",
    "accuracy_barplot(acc_mat')"
   ]
  },
  {
   "cell_type": "code",
   "execution_count": 53,
   "metadata": {
    "execution": {
     "iopub.execute_input": "2022-01-27T15:00:43.510819Z",
     "iopub.status.busy": "2022-01-27T15:00:43.510819Z",
     "iopub.status.idle": "2022-01-27T15:01:28.094060Z",
     "shell.execute_reply": "2022-01-27T15:01:28.094060Z",
     "shell.execute_reply.started": "2022-01-27T15:00:43.510819Z"
    }
   },
   "outputs": [
    {
     "name": "stdout",
     "output_type": "stream",
     "text": [
      "\n"
     ]
    }
   ],
   "source": [
    "[train_err,sf_acc,feat_imp,input_features] = single_feature_classification(nw_filtered,age_range,mat_idx,kf,TH,N_hyper);"
   ]
  },
  {
   "cell_type": "code",
   "execution_count": 55,
   "metadata": {
    "execution": {
     "iopub.execute_input": "2022-01-27T15:10:11.709444Z",
     "iopub.status.busy": "2022-01-27T15:10:11.709444Z",
     "iopub.status.idle": "2022-01-27T15:10:12.357320Z",
     "shell.execute_reply": "2022-01-27T15:10:12.357320Z",
     "shell.execute_reply.started": "2022-01-27T15:10:11.709444Z"
    }
   },
   "outputs": [
    {
     "name": "stdout",
     "output_type": "stream",
     "text": [
      "\n"
     ]
    },
    {
     "data": {
      "image/png": "[encoded data removed]",
      "text/plain": [
       "<IPython.core.display.Image object>"
      ]
     },
     "metadata": {},
     "output_type": "display_data"
    }
   ],
   "source": [
    "%plot --size 300,600\n",
    "plot_feature_importance(sf_acc,feat_imp,input_features)"
   ]
  },
  {
   "cell_type": "markdown",
   "metadata": {
    "execution": {
     "iopub.execute_input": "2022-01-25T15:07:04.744390Z",
     "iopub.status.busy": "2022-01-25T15:07:04.744390Z",
     "iopub.status.idle": "2022-01-25T15:07:04.754400Z",
     "shell.execute_reply": "2022-01-25T15:07:04.754400Z",
     "shell.execute_reply.started": "2022-01-25T15:07:04.744390Z"
    }
   },
   "source": [
    "### Age regression\n",
    "We might also be interested in understanding how good we can predict the age of different cultures e.g. to see if they show a normal development or when they reach a state of relative maturity.\n",
    "\n",
    "Here, we create the input a bit differently, so you can specify distinct training and testing sets, e.g. you can train on control WT cultures and predict LNA-treated WT cultures. Therefore, we have inclusion arrays, where the first cell represents the training inclusion/exclusion parameters, while the second and/or third correspond to the testing set(s). Importantly, also the training set will be evaluated using leave-one-out CV. "
   ]
  },
  {
   "cell_type": "markdown",
   "metadata": {
    "execution": {
     "iopub.execute_input": "2022-01-26T10:39:31.325636Z",
     "iopub.status.busy": "2022-01-26T10:39:31.325636Z",
     "iopub.status.idle": "2022-01-26T10:39:31.337647Z",
     "shell.execute_reply": "2022-01-26T10:39:31.337647Z",
     "shell.execute_reply.started": "2022-01-26T10:39:31.325636Z"
    }
   },
   "source": [
    "#### Set parameters"
   ]
  },
  {
   "cell_type": "code",
   "execution_count": 56,
   "metadata": {
    "execution": {
     "iopub.execute_input": "2022-01-27T15:13:05.805472Z",
     "iopub.status.busy": "2022-01-27T15:13:05.805472Z",
     "iopub.status.idle": "2022-01-27T15:13:05.830495Z",
     "shell.execute_reply": "2022-01-27T15:13:05.830495Z",
     "shell.execute_reply.started": "2022-01-27T15:13:05.805472Z"
    }
   },
   "outputs": [
    {
     "name": "stdout",
     "output_type": "stream",
     "text": [
      "\n"
     ]
    }
   ],
   "source": [
    "batches = unique([nw_array.PlatingDate]); %Refer to different batches via their PlatingDate property\n",
    "inclusion_array = {{{'PlatingDate',batches([1:2])}}}; %e.g. specify the batches to analyze by indexing the batches array // here we use the first two\n",
    "exclusion_array = {{}}; %Example on how to exclude a certain recording day // here we don't exclude anything as DIV 16 does not exist\n",
    "vars2use = [1,2,4]; %Which variable sets to use // 1 is network, 2 is waveform, 4 is activity-based single-cell features\n",
    "age_range = [0,40]; "
   ]
  },
  {
   "cell_type": "code",
   "execution_count": 57,
   "metadata": {
    "execution": {
     "iopub.execute_input": "2022-01-27T15:13:06.979535Z",
     "iopub.status.busy": "2022-01-27T15:13:06.979535Z",
     "iopub.status.idle": "2022-01-27T15:14:52.544383Z",
     "shell.execute_reply": "2022-01-27T15:14:52.544383Z",
     "shell.execute_reply.started": "2022-01-27T15:13:06.979535Z"
    }
   },
   "outputs": [
    {
     "name": "stdout",
     "output_type": "stream",
     "text": [
      "\n"
     ]
    }
   ],
   "source": [
    "[age,pred_weeks,pI,vars,cl_train] = predictAgeFunction(nw_array,vars2use,age_range,inclusion_array,exclusion_array);"
   ]
  },
  {
   "cell_type": "code",
   "execution_count": 58,
   "metadata": {
    "execution": {
     "iopub.execute_input": "2022-01-27T15:14:57.341213Z",
     "iopub.status.busy": "2022-01-27T15:14:57.341213Z",
     "iopub.status.idle": "2022-01-27T15:14:57.725562Z",
     "shell.execute_reply": "2022-01-27T15:14:57.725562Z",
     "shell.execute_reply.started": "2022-01-27T15:14:57.341213Z"
    }
   },
   "outputs": [
    {
     "name": "stdout",
     "output_type": "stream",
     "text": [
      "\n"
     ]
    },
    {
     "data": {
      "image/png": "[encoded data removed]",
      "text/plain": [
       "<IPython.core.display.Image object>"
      ]
     },
     "metadata": {},
     "output_type": "display_data"
    }
   ],
   "source": [
    "%plot --size 300,300\n",
    "predictAgeBoxplot(age,pred_weeks);"
   ]
  },
  {
   "cell_type": "markdown",
   "metadata": {},
   "source": [
    "We can now also evaluate if A53T cultures display a different developmental trajectory compared to WT cultures:"
   ]
  },
  {
   "cell_type": "code",
   "execution_count": 59,
   "metadata": {
    "execution": {
     "iopub.execute_input": "2022-01-27T15:15:05.220920Z",
     "iopub.status.busy": "2022-01-27T15:15:05.220920Z",
     "iopub.status.idle": "2022-01-27T15:15:05.228927Z",
     "shell.execute_reply": "2022-01-27T15:15:05.228927Z",
     "shell.execute_reply.started": "2022-01-27T15:15:05.220920Z"
    }
   },
   "outputs": [
    {
     "name": "stdout",
     "output_type": "stream",
     "text": [
      "\n"
     ]
    }
   ],
   "source": [
    "batches = unique([nw_array.PlatingDate]); %Refer to different batches via their PlatingDate property\n",
    "inclusion_array = {{{'PlatingDate',batches([1:2])},{'Mutation','wt'}},... %We train on control WT cultures\n",
    "                    {{'PlatingDate',batches([1:2])},{'Mutation','a53t'}}}; %And test how A53T cultures fare against them\n",
    "exclusion_array = {{},...\n",
    "                    {}}; \n",
    "vars2use = [1,2,4]; %We use all features to predict the age\n",
    "age_range = [0,40]; "
   ]
  },
  {
   "cell_type": "code",
   "execution_count": 60,
   "metadata": {
    "execution": {
     "iopub.execute_input": "2022-01-27T15:15:07.402839Z",
     "iopub.status.busy": "2022-01-27T15:15:07.402839Z",
     "iopub.status.idle": "2022-01-27T15:15:52.303592Z",
     "shell.execute_reply": "2022-01-27T15:15:52.303592Z",
     "shell.execute_reply.started": "2022-01-27T15:15:07.402839Z"
    }
   },
   "outputs": [
    {
     "name": "stdout",
     "output_type": "stream",
     "text": [
      "\n"
     ]
    }
   ],
   "source": [
    "[age,pred_weeks,pI,vars,cl_train] = predictAgeFunction(nw_array,vars2use,age_range,inclusion_array,exclusion_array);"
   ]
  },
  {
   "cell_type": "code",
   "execution_count": 61,
   "metadata": {
    "execution": {
     "iopub.execute_input": "2022-01-27T15:16:06.612681Z",
     "iopub.status.busy": "2022-01-27T15:16:06.612681Z",
     "iopub.status.idle": "2022-01-27T15:16:06.836517Z",
     "shell.execute_reply": "2022-01-27T15:16:06.836517Z",
     "shell.execute_reply.started": "2022-01-27T15:16:06.612681Z"
    }
   },
   "outputs": [
    {
     "name": "stdout",
     "output_type": "stream",
     "text": [
      "\n"
     ]
    },
    {
     "data": {
      "image/png": "[encoded data removed]",
      "text/plain": [
       "<IPython.core.display.Image object>"
      ]
     },
     "metadata": {},
     "output_type": "display_data"
    }
   ],
   "source": [
    "%plot --size 300,300\n",
    "predictAgeBoxplot(age,pred_weeks);"
   ]
  },
  {
   "cell_type": "markdown",
   "metadata": {},
   "source": [
    "Interesting! A53T cultures appear to be older than WT cultures, let's check which features were most important for the prediction:"
   ]
  },
  {
   "cell_type": "code",
   "execution_count": 62,
   "metadata": {
    "execution": {
     "iopub.execute_input": "2022-01-27T15:16:47.276913Z",
     "iopub.status.busy": "2022-01-27T15:16:47.276913Z",
     "iopub.status.idle": "2022-01-27T15:16:47.515129Z",
     "shell.execute_reply": "2022-01-27T15:16:47.515129Z",
     "shell.execute_reply.started": "2022-01-27T15:16:47.276913Z"
    }
   },
   "outputs": [
    {
     "name": "stdout",
     "output_type": "stream",
     "text": [
      "\n"
     ]
    },
    {
     "data": {
      "image/png": "[encoded data removed]",
      "text/plain": [
       "<IPython.core.display.Image object>"
      ]
     },
     "metadata": {},
     "output_type": "display_data"
    }
   ],
   "source": [
    "%plot --size 300,600\n",
    "[sorted_pI,sort_idx] = sort(pI,'ascend');\n",
    "barh(sorted_pI,'k');yticks(1:length(sorted_pI));yticklabels(vars(sort_idx));xlabel('Feature importance');box off;"
   ]
  },
  {
   "cell_type": "markdown",
   "metadata": {},
   "source": [
    "So the top 3 features describe the bursting behavior of the cultures, which therefore seems to be the most predictive feature for the age of a culture. Let's take this one step further and see, what we can do if we apply a specific [treatment](treatment_evaluation.ipynb) to the cultures!"
   ]
  }
 ],
 "metadata": {
  "kernelspec": {
   "display_name": "Matlab",
   "language": "matlab",
   "name": "matlab"
  },
  "language_info": {
   "codemirror_mode": "octave",
   "file_extension": ".m",
   "help_links": [
    {
     "text": "MetaKernel Magics",
     "url": "https://metakernel.readthedocs.io/en/latest/source/README.html"
    }
   ],
   "mimetype": "text/x-octave",
   "name": "matlab",
   "version": "0.16.11"
  }
 },
 "nbformat": 4,
 "nbformat_minor": 4
}

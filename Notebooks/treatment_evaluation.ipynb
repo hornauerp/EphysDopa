{
 "cells": [
  {
   "cell_type": "markdown",
   "metadata": {},
   "source": [
    "### Treatment evaluation"
   ]
  },
  {
   "cell_type": "code",
   "execution_count": 36,
   "metadata": {
    "execution": {
     "iopub.execute_input": "2022-01-27T15:19:04.927032Z",
     "iopub.status.busy": "2022-01-27T15:19:04.926031Z",
     "iopub.status.idle": "2022-01-27T15:19:05.390451Z",
     "shell.execute_reply": "2022-01-27T15:19:05.390451Z",
     "shell.execute_reply.started": "2022-01-27T15:19:04.927032Z"
    }
   },
   "outputs": [
    {
     "name": "stdout",
     "output_type": "stream",
     "text": [
      "\n"
     ]
    }
   ],
   "source": [
    "addpath('../Classes','../Functions')\n",
    "set(0, 'defaultFigureRenderer', 'painters')\n",
    "warning('off','all')"
   ]
  },
  {
   "cell_type": "code",
   "execution_count": null,
   "metadata": {},
   "outputs": [],
   "source": [
    "load('../Data/full_dataset.mat')"
   ]
  },
  {
   "cell_type": "code",
   "execution_count": 38,
   "metadata": {
    "execution": {
     "iopub.execute_input": "2022-01-27T15:19:43.460037Z",
     "iopub.status.busy": "2022-01-27T15:19:43.460037Z",
     "iopub.status.idle": "2022-01-27T15:19:46.945218Z",
     "shell.execute_reply": "2022-01-27T15:19:46.945218Z",
     "shell.execute_reply.started": "2022-01-27T15:19:43.460037Z"
    }
   },
   "outputs": [
    {
     "name": "stdout",
     "output_type": "stream",
     "text": [
      "\n"
     ]
    }
   ],
   "source": [
    "batches = unique([nw_array.PlatingDate]); %Refer to different batches via their PlatingDate property\n",
    "inclusion_train = {{'PlatingDate',batches([1:2])}}; %Training on the first two batches\n",
    "exclustion_train = {};\n",
    "train_array = filterObjectArray(nw_array,inclusion_train,exclustion_train); %Apply \n",
    "\n",
    "inclusion_test = {{'PlatingDate',batches([3])}}; %Evaluating classifier on all cultures from the third batch \n",
    "exclustion_test = {};\n",
    "test_array = filterObjectArray(nw_array,inclusion_test,exclustion_test); %Apply "
   ]
  },
  {
   "cell_type": "markdown",
   "metadata": {
    "execution": {
     "iopub.execute_input": "2022-01-24T11:54:16.086239Z",
     "iopub.status.busy": "2022-01-24T11:54:16.084237Z",
     "iopub.status.idle": "2022-01-24T11:54:16.278412Z",
     "shell.execute_reply": "2022-01-24T11:54:16.277412Z",
     "shell.execute_reply.started": "2022-01-24T11:54:16.086239Z"
    }
   },
   "source": [
    "#### Set parameters"
   ]
  },
  {
   "cell_type": "code",
   "execution_count": 39,
   "metadata": {
    "execution": {
     "iopub.execute_input": "2022-01-27T15:19:48.747938Z",
     "iopub.status.busy": "2022-01-27T15:19:48.747938Z",
     "iopub.status.idle": "2022-01-27T15:19:48.758948Z",
     "shell.execute_reply": "2022-01-27T15:19:48.758948Z",
     "shell.execute_reply.started": "2022-01-27T15:19:48.747938Z"
    }
   },
   "outputs": [
    {
     "name": "stdout",
     "output_type": "stream",
     "text": [
      "\n"
     ]
    }
   ],
   "source": [
    "age_range = [0, 28]; %Set the week for which the features should be used // 6 uses all weeks\n",
    "mat_idx = 1:2; %Indicate if single-cell, network, or both should be used // network is 1, single-cell is 2, both is 1:2\n",
    "nw_sel = []; %Select specific network features // here we use all\n",
    "sc_sel = []; %Select specific single-cell features // here we use all\n",
    "alg = 'rf'; %Algorithm to be used // choices are 'svm','cnb','knn','rf'\n",
    "TH = 3; %Set outlier detection threshold, value refers to the median absolute deviation multiplier // default is 3\n",
    "N_hyper = 0; %Number of iterations for hyperparameter optimization //0 skips hyperparameter optimization"
   ]
  },
  {
   "cell_type": "code",
   "execution_count": 42,
   "metadata": {
    "execution": {
     "iopub.execute_input": "2022-01-27T15:25:08.403291Z",
     "iopub.status.busy": "2022-01-27T15:25:08.403291Z",
     "iopub.status.idle": "2022-01-27T15:25:12.525560Z",
     "shell.execute_reply": "2022-01-27T15:25:12.525560Z",
     "shell.execute_reply.started": "2022-01-27T15:25:08.403291Z"
    }
   },
   "outputs": [
    {
     "name": "stdout",
     "output_type": "stream",
     "text": [
      "\n"
     ]
    }
   ],
   "source": [
    "[clf,train_acc,pred,test_mutation,treatment] = evaluate_intervention(train_array,test_array,age_range,mat_idx,nw_sel,sc_sel,alg,TH,N_hyper);"
   ]
  },
  {
   "cell_type": "code",
   "execution_count": 43,
   "metadata": {
    "execution": {
     "iopub.execute_input": "2022-01-27T15:25:14.124294Z",
     "iopub.status.busy": "2022-01-27T15:25:14.123293Z",
     "iopub.status.idle": "2022-01-27T15:25:14.805129Z",
     "shell.execute_reply": "2022-01-27T15:25:14.805129Z",
     "shell.execute_reply.started": "2022-01-27T15:25:14.124294Z"
    }
   },
   "outputs": [
    {
     "name": "stdout",
     "output_type": "stream",
     "text": [
      "\n"
     ]
    },
    {
     "data": {
      "image/png": "[encoded data removed]",
      "text/plain": [
       "<IPython.core.display.Image object>"
      ]
     },
     "metadata": {},
     "output_type": "display_data"
    }
   ],
   "source": [
    "%plot --size 300,200\n",
    "plot_treatment_evaluation(test_mutation,treatment,pred)"
   ]
  },
  {
   "cell_type": "markdown",
   "metadata": {},
   "source": [
    "Now let's check out, how the LNA treatment impacts the age prediction! We start with the WT cultures:"
   ]
  },
  {
   "cell_type": "code",
   "execution_count": 44,
   "metadata": {
    "execution": {
     "iopub.execute_input": "2022-01-27T15:25:17.723069Z",
     "iopub.status.busy": "2022-01-27T15:25:17.723069Z",
     "iopub.status.idle": "2022-01-27T15:25:17.731076Z",
     "shell.execute_reply": "2022-01-27T15:25:17.731076Z",
     "shell.execute_reply.started": "2022-01-27T15:25:17.723069Z"
    }
   },
   "outputs": [
    {
     "name": "stdout",
     "output_type": "stream",
     "text": [
      "\n"
     ]
    }
   ],
   "source": [
    "batches = unique([nw_array.PlatingDate]); %Refer to different batches via their PlatingDate property\n",
    "inclusion_array = {{{'PlatingDate',batches([1:3])},{'Mutation','wt'}},...\n",
    "                    {{'PlatingDate',batches([1:3])},{'Mutation','wt'},{'Treatment','LNA7'}}}; %We use all non-LNA-treated WT cultures as training, and all LNA7-treated WT cultures as test\n",
    "exclusion_array = {{{'Treatment','LNA7'}},...\n",
    "                    {}}; \n",
    "vars2use = [1,2,4]; %Which variable sets to use // 1 is network, 2 is waveform, 4 is activity-based single-cell features\n",
    "age_range = [0,29]; "
   ]
  },
  {
   "cell_type": "code",
   "execution_count": 45,
   "metadata": {
    "execution": {
     "iopub.execute_input": "2022-01-27T15:25:19.170699Z",
     "iopub.status.busy": "2022-01-27T15:25:19.170699Z",
     "iopub.status.idle": "2022-01-27T15:26:03.057793Z",
     "shell.execute_reply": "2022-01-27T15:26:03.057793Z",
     "shell.execute_reply.started": "2022-01-27T15:25:19.170699Z"
    }
   },
   "outputs": [
    {
     "name": "stdout",
     "output_type": "stream",
     "text": [
      "\n"
     ]
    }
   ],
   "source": [
    "[age,pred_weeks,pI,vars,cl_train] = predictAgeFunction(nw_array,vars2use,age_range,inclusion_array,exclusion_array);"
   ]
  },
  {
   "cell_type": "code",
   "execution_count": 46,
   "metadata": {
    "execution": {
     "iopub.execute_input": "2022-01-27T15:26:05.683441Z",
     "iopub.status.busy": "2022-01-27T15:26:05.683441Z",
     "iopub.status.idle": "2022-01-27T15:26:06.273975Z",
     "shell.execute_reply": "2022-01-27T15:26:06.273975Z",
     "shell.execute_reply.started": "2022-01-27T15:26:05.683441Z"
    }
   },
   "outputs": [
    {
     "name": "stdout",
     "output_type": "stream",
     "text": [
      "\n"
     ]
    },
    {
     "data": {
      "image/png": "[encoded data removed]",
      "text/plain": [
       "<IPython.core.display.Image object>"
      ]
     },
     "metadata": {},
     "output_type": "display_data"
    }
   ],
   "source": [
    "%plot --size 300,300\n",
    "predictAgeBoxplot(age,pred_weeks);"
   ]
  }
 ],
 "metadata": {
  "kernelspec": {
   "display_name": "Matlab",
   "language": "matlab",
   "name": "matlab"
  },
  "language_info": {
   "codemirror_mode": "octave",
   "file_extension": ".m",
   "help_links": [
    {
     "text": "MetaKernel Magics",
     "url": "https://metakernel.readthedocs.io/en/latest/source/README.html"
    }
   ],
   "mimetype": "text/x-octave",
   "name": "matlab",
   "version": "0.16.11"
  }
 },
 "nbformat": 4,
 "nbformat_minor": 4
}

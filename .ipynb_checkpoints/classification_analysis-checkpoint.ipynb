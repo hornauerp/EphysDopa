{
 "cells": [
  {
   "cell_type": "markdown",
   "metadata": {
    "execution": {
     "iopub.execute_input": "2022-01-21T15:33:21.114948Z",
     "iopub.status.busy": "2022-01-21T15:33:21.114948Z"
    }
   },
   "source": [
    "### Classification\n",
    "Having seen some of the differences between the celllines, we might also be interested in understanding which features are actually predictive of the respective genotype/treatment. To that end, we will use classification analysis and take a look at the accuracies and the feature importance values:"
   ]
  },
  {
   "cell_type": "code",
   "execution_count": 6,
   "metadata": {
    "execution": {
     "iopub.execute_input": "2022-01-24T13:01:16.730724Z",
     "iopub.status.busy": "2022-01-24T13:01:16.730724Z",
     "iopub.status.idle": "2022-01-24T13:01:16.786775Z",
     "shell.execute_reply": "2022-01-24T13:01:16.786775Z",
     "shell.execute_reply.started": "2022-01-24T13:01:16.730724Z"
    }
   },
   "outputs": [
    {
     "name": "stdout",
     "output_type": "stream",
     "text": [
      "\n"
     ]
    }
   ],
   "source": [
    "addpath('Classes','Functions')\n",
    "set(0, 'defaultFigureRenderer', 'painters')\n",
    "warning('off','all')"
   ]
  },
  {
   "cell_type": "code",
   "execution_count": 173,
   "metadata": {
    "execution": {
     "iopub.execute_input": "2022-01-26T11:41:03.536112Z",
     "iopub.status.busy": "2022-01-26T11:41:03.536112Z",
     "iopub.status.idle": "2022-01-26T11:41:23.114206Z",
     "shell.execute_reply": "2022-01-26T11:41:23.114206Z",
     "shell.execute_reply.started": "2022-01-26T11:41:03.536112Z"
    }
   },
   "outputs": [
    {
     "name": "stdout",
     "output_type": "stream",
     "text": [
      "\n"
     ]
    }
   ],
   "source": [
    "load('Data/full_dataset.mat')"
   ]
  },
  {
   "cell_type": "code",
   "execution_count": 8,
   "metadata": {
    "execution": {
     "iopub.execute_input": "2022-01-24T13:02:24.408979Z",
     "iopub.status.busy": "2022-01-24T13:02:24.408979Z",
     "iopub.status.idle": "2022-01-24T13:02:24.647195Z",
     "shell.execute_reply": "2022-01-24T13:02:24.647195Z",
     "shell.execute_reply.started": "2022-01-24T13:02:24.408979Z"
    }
   },
   "outputs": [
    {
     "name": "stdout",
     "output_type": "stream",
     "text": [
      "\n"
     ]
    }
   ],
   "source": [
    "batches = unique([nw_array.PlatingDate]); %Refer to different batches via their PlatingDate property\n",
    "inclusion = {{'PlatingDate',batches([1:2])}}; %e.g. specify the batches to analyze by indexing the batches array // here we use the first two\n",
    "exclusion = {{'DIV',16}}; %Example on how to exclude a certain recording day // here we don't exclude anything as DIV 16 does not exist\n",
    "nw_filtered = filterObjectArray(nw_array,inclusion,exclusion); %Apply "
   ]
  },
  {
   "cell_type": "markdown",
   "metadata": {
    "execution": {
     "iopub.execute_input": "2022-01-24T11:54:16.086239Z",
     "iopub.status.busy": "2022-01-24T11:54:16.084237Z",
     "iopub.status.idle": "2022-01-24T11:54:16.278412Z",
     "shell.execute_reply": "2022-01-24T11:54:16.277412Z",
     "shell.execute_reply.started": "2022-01-24T11:54:16.086239Z"
    }
   },
   "source": [
    "#### Set parameters"
   ]
  },
  {
   "cell_type": "code",
   "execution_count": 78,
   "metadata": {
    "execution": {
     "iopub.execute_input": "2022-01-25T13:30:13.048566Z",
     "iopub.status.busy": "2022-01-25T13:30:13.047566Z",
     "iopub.status.idle": "2022-01-25T13:30:13.059576Z",
     "shell.execute_reply": "2022-01-25T13:30:13.059576Z",
     "shell.execute_reply.started": "2022-01-25T13:30:13.048566Z"
    }
   },
   "outputs": [
    {
     "name": "stdout",
     "output_type": "stream",
     "text": [
      "\n"
     ]
    }
   ],
   "source": [
    "week = 6; %Set the week for which the features should be used // 6 uses all weeks\n",
    "mat_idx = 1:2; %Indicate if single-cell, network, or both should be used // network is 1, single-cell is 2, both is 1:2\n",
    "nw_sel = []; %Select specific network features // here we use all\n",
    "sc_sel = []; %Select specific single-cell features // here we use all\n",
    "alg = 'rf'; %Algorithm to be used // choices are 'svm','cnb','knn','rf'\n",
    "kf = 5; %Number of kfold crossvalidations // default is 5\n",
    "TH = 3; %Set outlier detection threshold, value refers to the median absolute deviation multiplier // default is 3\n",
    "N_hyper = 0; %Number of iterations for hyperparameter optimization //0 skips hyperparameter optimization"
   ]
  },
  {
   "cell_type": "code",
   "execution_count": 46,
   "metadata": {
    "execution": {
     "iopub.execute_input": "2022-01-24T15:14:35.518329Z",
     "iopub.status.busy": "2022-01-24T15:14:35.518329Z",
     "iopub.status.idle": "2022-01-24T15:14:42.841990Z",
     "shell.execute_reply": "2022-01-24T15:14:42.841990Z",
     "shell.execute_reply.started": "2022-01-24T15:14:35.518329Z"
    }
   },
   "outputs": [
    {
     "name": "stdout",
     "output_type": "stream",
     "text": [
      "Average test accuracy was 85.7%\n"
     ]
    }
   ],
   "source": [
    "[train_acc,test_acc,mutation] = classify_genotypes(nw_filtered,week,mat_idx,nw_sel,sc_sel,alg,kf,TH,N_hyper);\n",
    "fprintf('Average test accuracy was %.1f%%',mean(test_acc)*100)"
   ]
  },
  {
   "cell_type": "code",
   "execution_count": 48,
   "metadata": {
    "execution": {
     "iopub.execute_input": "2022-01-24T15:16:34.935498Z",
     "iopub.status.busy": "2022-01-24T15:16:34.935498Z",
     "iopub.status.idle": "2022-01-24T15:17:19.976741Z",
     "shell.execute_reply": "2022-01-24T15:17:19.976741Z",
     "shell.execute_reply.started": "2022-01-24T15:16:34.935498Z"
    }
   },
   "outputs": [
    {
     "name": "stdout",
     "output_type": "stream",
     "text": [
      "\n"
     ]
    }
   ],
   "source": [
    "acc_mat = nan(6,kf);\n",
    "for w = 1:6\n",
    "    [train_acc,test_acc,mutation] = classify_genotypes(nw_filtered,w,mat_idx,nw_sel,sc_sel,alg,kf,TH,N_hyper);\n",
    "    acc_mat(w,:) = test_acc;\n",
    "end"
   ]
  },
  {
   "cell_type": "code",
   "execution_count": 59,
   "metadata": {
    "execution": {
     "iopub.execute_input": "2022-01-24T15:26:32.518027Z",
     "iopub.status.busy": "2022-01-24T15:26:32.518027Z",
     "iopub.status.idle": "2022-01-24T15:26:32.725043Z",
     "shell.execute_reply": "2022-01-24T15:26:32.725043Z",
     "shell.execute_reply.started": "2022-01-24T15:26:32.518027Z"
    }
   },
   "outputs": [
    {
     "name": "stdout",
     "output_type": "stream",
     "text": [
      "\n"
     ]
    },
    {
     "data": {
      "image/png": "[encoded data removed]",
      "text/plain": [
       "<IPython.core.display.Image object>"
      ]
     },
     "metadata": {},
     "output_type": "display_data"
    }
   ],
   "source": [
    "%plot --size 300,200\n",
    "accuracy_barplot(acc_mat')"
   ]
  },
  {
   "cell_type": "code",
   "execution_count": 117,
   "metadata": {
    "execution": {
     "iopub.execute_input": "2022-01-25T16:11:00.745136Z",
     "iopub.status.busy": "2022-01-25T16:11:00.745136Z",
     "iopub.status.idle": "2022-01-25T16:12:06.047427Z",
     "shell.execute_reply": "2022-01-25T16:12:06.047427Z",
     "shell.execute_reply.started": "2022-01-25T16:11:00.745136Z"
    }
   },
   "outputs": [
    {
     "name": "stdout",
     "output_type": "stream",
     "text": [
      "Starting parallel pool (parpool) using the 'local' profile ...\n",
      "Connected to the parallel pool (number of workers: 12).\n",
      "\n"
     ]
    }
   ],
   "source": [
    "[train_err,sf_acc,feat_imp,input_features] = single_feature_classification(nw_filtered,week,mat_idx,kf,TH,N_hyper);"
   ]
  },
  {
   "cell_type": "code",
   "execution_count": 129,
   "metadata": {
    "execution": {
     "iopub.execute_input": "2022-01-26T09:28:44.370459Z",
     "iopub.status.busy": "2022-01-26T09:28:44.370459Z",
     "iopub.status.idle": "2022-01-26T09:28:44.898947Z",
     "shell.execute_reply": "2022-01-26T09:28:44.898947Z",
     "shell.execute_reply.started": "2022-01-26T09:28:44.370459Z"
    }
   },
   "outputs": [
    {
     "name": "stdout",
     "output_type": "stream",
     "text": [
      "\n"
     ]
    },
    {
     "data": {
      "image/png": "[encoded data removed]",
      "text/plain": [
       "<IPython.core.display.Image object>"
      ]
     },
     "metadata": {},
     "output_type": "display_data"
    }
   ],
   "source": [
    "%plot --size 300,600\n",
    "plot_feature_importance(sf_acc,feat_imp,input_features)"
   ]
  },
  {
   "cell_type": "markdown",
   "metadata": {
    "execution": {
     "iopub.execute_input": "2022-01-25T15:07:04.744390Z",
     "iopub.status.busy": "2022-01-25T15:07:04.744390Z",
     "iopub.status.idle": "2022-01-25T15:07:04.754400Z",
     "shell.execute_reply": "2022-01-25T15:07:04.754400Z",
     "shell.execute_reply.started": "2022-01-25T15:07:04.744390Z"
    }
   },
   "source": [
    "### Age regression\n",
    "We might also be interested in understanding how good we can predict the age of different cultures e.g. to see if they show a normal development or when they reach a state of relative maturity.\n",
    "\n",
    "Here, we create the input a bit differently, so you can specify distinct training and testing sets, e.g. you can train on control WT cultures and predict LNA-treated WT cultures. Therefore, we have inclusion arrays, where the first cell represents the training inclusion/exclusion parameters, while the second and/or third correspond to the testing set(s). Importantly, also the training set will be evaluated using leave-one-out CV. "
   ]
  },
  {
   "cell_type": "markdown",
   "metadata": {
    "execution": {
     "iopub.execute_input": "2022-01-26T10:39:31.325636Z",
     "iopub.status.busy": "2022-01-26T10:39:31.325636Z",
     "iopub.status.idle": "2022-01-26T10:39:31.337647Z",
     "shell.execute_reply": "2022-01-26T10:39:31.337647Z",
     "shell.execute_reply.started": "2022-01-26T10:39:31.325636Z"
    }
   },
   "source": [
    "#### Set parameters"
   ]
  },
  {
   "cell_type": "code",
   "execution_count": 134,
   "metadata": {
    "execution": {
     "iopub.execute_input": "2022-01-26T10:51:02.158157Z",
     "iopub.status.busy": "2022-01-26T10:51:02.158157Z",
     "iopub.status.idle": "2022-01-26T10:51:02.171169Z",
     "shell.execute_reply": "2022-01-26T10:51:02.171169Z",
     "shell.execute_reply.started": "2022-01-26T10:51:02.158157Z"
    }
   },
   "outputs": [
    {
     "name": "stdout",
     "output_type": "stream",
     "text": [
      "\n"
     ]
    }
   ],
   "source": [
    "batches = unique([nw_array.PlatingDate]); %Refer to different batches via their PlatingDate property\n",
    "inclusion_array = {{{'PlatingDate',batches([1:2])}}}; %e.g. specify the batches to analyze by indexing the batches array // here we use the first two\n",
    "exclusion_array = {{}}; %Example on how to exclude a certain recording day // here we don't exclude anything as DIV 16 does not exist\n",
    "vars2use = [1,2,4]; %Which variable sets to use // 1 is network, 2 is waveform, 4 is activity-based single-cell features\n",
    "age_range = [0,40]; "
   ]
  },
  {
   "cell_type": "code",
   "execution_count": 142,
   "metadata": {
    "execution": {
     "iopub.execute_input": "2022-01-26T11:11:01.948273Z",
     "iopub.status.busy": "2022-01-26T11:11:01.948273Z",
     "iopub.status.idle": "2022-01-26T11:12:44.339871Z",
     "shell.execute_reply": "2022-01-26T11:12:44.339871Z",
     "shell.execute_reply.started": "2022-01-26T11:11:01.948273Z"
    }
   },
   "outputs": [
    {
     "name": "stdout",
     "output_type": "stream",
     "text": [
      "\n"
     ]
    }
   ],
   "source": [
    "[age,pred_weeks,pI,vars,cl_train] = predictAgeFunction(nw_array,vars2use,age_range,inclusion_array,exclusion_array);"
   ]
  },
  {
   "cell_type": "code",
   "execution_count": 169,
   "metadata": {
    "execution": {
     "iopub.execute_input": "2022-01-26T11:30:35.416558Z",
     "iopub.status.busy": "2022-01-26T11:30:35.416558Z",
     "iopub.status.idle": "2022-01-26T11:30:35.602725Z",
     "shell.execute_reply": "2022-01-26T11:30:35.602725Z",
     "shell.execute_reply.started": "2022-01-26T11:30:35.416558Z"
    }
   },
   "outputs": [
    {
     "name": "stdout",
     "output_type": "stream",
     "text": [
      "\n"
     ]
    },
    {
     "data": {
      "image/png": "[encoded data removed]",
      "text/plain": [
       "<IPython.core.display.Image object>"
      ]
     },
     "metadata": {},
     "output_type": "display_data"
    }
   ],
   "source": [
    "%plot --size 300,300\n",
    "s_ap = predictAgeBoxplot(age,1,pred_weeks);"
   ]
  },
  {
   "cell_type": "markdown",
   "metadata": {},
   "source": [
    "Now let's check out, how the LNA treatment impacts the age prediction! We start with the WT cultures:"
   ]
  },
  {
   "cell_type": "code",
   "execution_count": 181,
   "metadata": {
    "execution": {
     "iopub.execute_input": "2022-01-26T12:53:48.135149Z",
     "iopub.status.busy": "2022-01-26T12:53:48.134148Z",
     "iopub.status.idle": "2022-01-26T12:53:48.148160Z",
     "shell.execute_reply": "2022-01-26T12:53:48.148160Z",
     "shell.execute_reply.started": "2022-01-26T12:53:48.135149Z"
    }
   },
   "outputs": [
    {
     "name": "stdout",
     "output_type": "stream",
     "text": [
      "\n"
     ]
    }
   ],
   "source": [
    "batches = unique([nw_array.PlatingDate]); %Refer to different batches via their PlatingDate property\n",
    "inclusion_array = {{{'PlatingDate',batches([1:3])},{'Mutation','wt'}},...\n",
    "                    {{'PlatingDate',batches([1:3])},{'Mutation','wt'},{'Treatment','LNA7'}}}; %We use all non-LNA-treated WT cultures as training, and all LNA7-treated WT cultures as test\n",
    "exclusion_array = {{{'Treatment','LNA7'}},...\n",
    "                    {}}; \n",
    "vars2use = [1,2,4]; %Which variable sets to use // 1 is network, 2 is waveform, 4 is activity-based single-cell features\n",
    "age_range = [0,29]; "
   ]
  },
  {
   "cell_type": "code",
   "execution_count": 182,
   "metadata": {
    "execution": {
     "iopub.execute_input": "2022-01-26T12:53:51.475708Z",
     "iopub.status.busy": "2022-01-26T12:53:51.475708Z",
     "iopub.status.idle": "2022-01-26T12:54:37.898318Z",
     "shell.execute_reply": "2022-01-26T12:54:37.898318Z",
     "shell.execute_reply.started": "2022-01-26T12:53:51.475708Z"
    }
   },
   "outputs": [
    {
     "name": "stdout",
     "output_type": "stream",
     "text": [
      "\n"
     ]
    }
   ],
   "source": [
    "[age,pred_weeks,pI,vars,cl_train] = predictAgeFunction(nw_array,vars2use,age_range,inclusion_array,exclusion_array);"
   ]
  },
  {
   "cell_type": "code",
   "execution_count": 184,
   "metadata": {
    "execution": {
     "iopub.execute_input": "2022-01-26T12:58:51.365576Z",
     "iopub.status.busy": "2022-01-26T12:58:51.365576Z",
     "iopub.status.idle": "2022-01-26T12:58:51.590288Z",
     "shell.execute_reply": "2022-01-26T12:58:51.590288Z",
     "shell.execute_reply.started": "2022-01-26T12:58:51.365576Z"
    }
   },
   "outputs": [
    {
     "name": "stdout",
     "output_type": "stream",
     "text": [
      "\n"
     ]
    },
    {
     "data": {
      "image/png": "[encoded data removed]",
      "text/plain": [
       "<IPython.core.display.Image object>"
      ]
     },
     "metadata": {},
     "output_type": "display_data"
    }
   ],
   "source": [
    "%plot --size 300,300\n",
    "s_ap = predictAgeBoxplot(age,pred_weeks);"
   ]
  }
 ],
 "metadata": {
  "kernelspec": {
   "display_name": "Matlab",
   "language": "matlab",
   "name": "matlab"
  },
  "language_info": {
   "codemirror_mode": "octave",
   "file_extension": ".m",
   "help_links": [
    {
     "text": "MetaKernel Magics",
     "url": "https://metakernel.readthedocs.io/en/latest/source/README.html"
    }
   ],
   "mimetype": "text/x-octave",
   "name": "matlab",
   "version": "0.16.11"
  }
 },
 "nbformat": 4,
 "nbformat_minor": 4
}

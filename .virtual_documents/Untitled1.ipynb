ala = 2


from numpy import 
